{
 "cells": [
  {
   "cell_type": "markdown",
   "id": "df104ee5-4a8f-4ad2-9353-5b11e524c479",
   "metadata": {},
   "source": [
    "#### plotlyを使用してグラフの見た目に関わる設定を変更\n",
    "### https://note.com/scilabcafe/n/nf49892c4ae11"
   ]
  },
  {
   "cell_type": "code",
   "execution_count": 3,
   "id": "e769a110-c261-44c5-90a2-1c4da4e73b04",
   "metadata": {},
   "outputs": [],
   "source": [
    "import pandas_datareader.data as web\n",
    "import datetime"
   ]
  },
  {
   "cell_type": "code",
   "execution_count": 4,
   "id": "ed2a6fa0-7df4-43f1-bb24-0ae4c6a74b4c",
   "metadata": {},
   "outputs": [],
   "source": [
    "start = '2022-10-01'\n",
    "end = datetime.date.today()\n",
    "\n",
    "df_nkx = web.DataReader('^NKX', 'stooq', start, end)\n",
    "# 日付を昇順に並び替える\n",
    "df_nkx.sort_index(inplace=True)"
   ]
  },
  {
   "cell_type": "code",
   "execution_count": 9,
   "id": "61824735-3265-4662-8eab-33213bf75d08",
   "metadata": {},
   "outputs": [
    {
     "data": {
      "text/html": [
       "<iframe\n",
       "    scrolling=\"no\"\n",
       "    width=\"820px\"\n",
       "    height=\"520\"\n",
       "    src=\"iframe_figures/figure_9.html\"\n",
       "    frameborder=\"0\"\n",
       "    allowfullscreen\n",
       "></iframe>\n"
      ]
     },
     "metadata": {},
     "output_type": "display_data"
    }
   ],
   "source": [
    "# plotlyライブラリのインポート\n",
    "import plotly.graph_objects as go\n",
    "import plotly.io as pio  # 入出力関連ライブラリ\n",
    "pio.renderers.default = 'iframe'\n",
    "\n",
    "# グラフの実体となる trace オブジェクトを生成\n",
    "scatter_trace = go.Scatter(\n",
    "    x=df_nkx.index,\n",
    "    y=df_nkx['Close'],\n",
    "    mode='lines',\n",
    "    line={'color':'red'},\n",
    "    name='NIKKEI225'\n",
    ")\n",
    "# レイアウトオブジェクトを生成\n",
    "graph_layout = go.Layout(\n",
    "    \n",
    "    # 幅と高さの設定\n",
    "    width=800, height=500,\n",
    "    \n",
    "    # タイトルの設定\n",
    "    title=dict(\n",
    "        text='ベースグラフの描画', # タイトル\n",
    "        font=dict(family='Times New Roman', size=20, color='grey'), # フォントの指定\n",
    "        xref='paper', # container or paper\n",
    "        x=0.5,\n",
    "        y=0.87,\n",
    "        xanchor='center',\n",
    "    ),\n",
    "    # y軸の設定\n",
    "    yaxis=dict(\n",
    "        # y軸のタイトルの設定\n",
    "        title=dict(text='Stock Price', font=dict(family='Times New Roman', size=18, color='grey')),\n",
    "        range=[20000,40000] # 軸の範囲の設定\n",
    "    ),\n",
    "    # 凡例は消去\n",
    "    showlegend=False\n",
    ")\n",
    "# 描画領域である figure オブジェクトの作成                  \n",
    "fig = go.Figure(data=scatter_trace, layout=graph_layout)\n",
    "fig.show()"
   ]
  },
  {
   "cell_type": "code",
   "execution_count": 8,
   "id": "f780f09a-1a22-4535-82ec-3d6d7322aa2d",
   "metadata": {},
   "outputs": [
    {
     "data": {
      "text/html": [
       "<iframe\n",
       "    scrolling=\"no\"\n",
       "    width=\"820px\"\n",
       "    height=\"520\"\n",
       "    src=\"iframe_figures/figure_8.html\"\n",
       "    frameborder=\"0\"\n",
       "    allowfullscreen\n",
       "></iframe>\n"
      ]
     },
     "metadata": {},
     "output_type": "display_data"
    }
   ],
   "source": [
    "# レイアウトの更新\n",
    "fig.update_layout(\n",
    "    plot_bgcolor='grey', # 背景色をgreyに設定\n",
    "\n",
    "    # タイトルの更新\n",
    "    title=dict(\n",
    "        text='背景色の変更（レイアウトの更新）', # タイトル\n",
    "        font=dict(family='Times New Roman', size=20, color='grey'), # フォントの指定\n",
    "        xref='paper', # container or paper\n",
    "        x=0.5,\n",
    "        y=0.87,\n",
    "        xanchor='center',\n",
    "    ),\n",
    "\n",
    ")\n",
    "\n",
    "# show()メソッドでグラフを描画\n",
    "fig.show()"
   ]
  },
  {
   "cell_type": "code",
   "execution_count": 10,
   "id": "a67a54d7-04d5-4ec0-b0fd-9de9a0755a65",
   "metadata": {},
   "outputs": [
    {
     "data": {
      "text/html": [
       "<iframe\n",
       "    scrolling=\"no\"\n",
       "    width=\"820px\"\n",
       "    height=\"520\"\n",
       "    src=\"iframe_figures/figure_10.html\"\n",
       "    frameborder=\"0\"\n",
       "    allowfullscreen\n",
       "></iframe>\n"
      ]
     },
     "metadata": {},
     "output_type": "display_data"
    }
   ],
   "source": [
    "# レイアウトの更新\n",
    "fig.update_layout(    \n",
    "    # 凡例表示\n",
    "    showlegend=True,    \n",
    "    # 凡例の設定\n",
    "    legend=dict(\n",
    "        bgcolor='white', # 背景色\n",
    "        bordercolor='grey', # 枠線の色\n",
    "        borderwidth=1, # 枠線の太さ\n",
    "\n",
    "        xanchor='left', # 凡例位置の基準：x\n",
    "        yanchor='bottom', # 凡例位置の基準：y\n",
    "        x=0.8, # 凡例位置：x\n",
    "        y=0.85, # 凡例位置：y\n",
    "        orientation='v', # 凡例の並べ方:縦\n",
    "    ),\n",
    "    # タイトルの更新\n",
    "    title=dict(\n",
    "        text='凡例の設定（レイアウトの更新）', # タイトル\n",
    "        font=dict(family='Times New Roman', size=20, color='grey'), # フォントの指定\n",
    "        xref='paper', # container or paper\n",
    "        x=0.5,\n",
    "        y=0.87,\n",
    "        xanchor='center',\n",
    "    ),\n",
    ")\n",
    "fig.show()"
   ]
  },
  {
   "cell_type": "code",
   "execution_count": 11,
   "id": "be944a18-e3a3-496c-a100-0329e2977dc2",
   "metadata": {},
   "outputs": [
    {
     "data": {
      "text/html": [
       "<iframe\n",
       "    scrolling=\"no\"\n",
       "    width=\"820px\"\n",
       "    height=\"520\"\n",
       "    src=\"iframe_figures/figure_11.html\"\n",
       "    frameborder=\"0\"\n",
       "    allowfullscreen\n",
       "></iframe>\n"
      ]
     },
     "metadata": {},
     "output_type": "display_data"
    }
   ],
   "source": [
    "# 軸の設定\n",
    "# linecolorを設定して、ラインをミラーリング（mirror=True）して枠にする\n",
    "fig.update_xaxes(linecolor='black', linewidth=1, mirror=True)\n",
    "fig.update_yaxes(linecolor='black', linewidth=1, mirror=True)\n",
    "\n",
    "# レイアウトの更新\n",
    "fig.update_layout(\n",
    "    # タイトルの更新\n",
    "    title=dict(\n",
    "        text='グラフエリアを枠で囲う（軸の更新）', # タイトル\n",
    "        font=dict(family='Times New Roman', size=20, color='grey'), # フォントの指定\n",
    "        xref='paper', # container or paper\n",
    "        x=0.5,\n",
    "        y=0.87,\n",
    "        xanchor='center',\n",
    "    ),\n",
    ")\n",
    "fig.show()"
   ]
  },
  {
   "cell_type": "code",
   "execution_count": 12,
   "id": "a3d21a9a-d51a-4737-9f29-d216c6af1dc5",
   "metadata": {},
   "outputs": [
    {
     "data": {
      "text/html": [
       "<iframe\n",
       "    scrolling=\"no\"\n",
       "    width=\"820px\"\n",
       "    height=\"520\"\n",
       "    src=\"iframe_figures/figure_12.html\"\n",
       "    frameborder=\"0\"\n",
       "    allowfullscreen\n",
       "></iframe>\n"
      ]
     },
     "metadata": {},
     "output_type": "display_data"
    }
   ],
   "source": [
    "# 軸の設定\n",
    "# ticks='inside'：目盛り内側, tickcolor：目盛りの色, tickwidth：目盛りの幅、ticklen：目盛りの長さ\n",
    "fig.update_xaxes(ticks='inside', tickcolor='black', tickwidth=1, ticklen=5)\n",
    "fig.update_yaxes(ticks='inside', tickcolor='black', tickwidth=1, ticklen=5)\n",
    "\n",
    "# レイアウトの更新\n",
    "fig.update_layout(\n",
    "    # タイトルの更新\n",
    "    title=dict(\n",
    "        text='軸の目盛りを追加（軸の更新）', # タイトル\n",
    "        font=dict(family='Times New Roman', size=20, color='grey'), # フォントの指定\n",
    "        xref='paper', # container or paper\n",
    "        x=0.5,\n",
    "        y=0.87,\n",
    "        xanchor='center',\n",
    "    ),\n",
    ")\n",
    "fig.show()"
   ]
  },
  {
   "cell_type": "code",
   "execution_count": 8,
   "id": "4f687442-df1a-4a54-a719-d979e22bbd51",
   "metadata": {},
   "outputs": [
    {
     "data": {
      "text/html": [
       "<iframe\n",
       "    scrolling=\"no\"\n",
       "    width=\"820px\"\n",
       "    height=\"520\"\n",
       "    src=\"iframe_figures/figure_8.html\"\n",
       "    frameborder=\"0\"\n",
       "    allowfullscreen\n",
       "></iframe>\n"
      ]
     },
     "metadata": {},
     "output_type": "display_data"
    }
   ],
   "source": [
    "# 軸の設定\n",
    "# gridcolor：グリッドの色, gridwidth：グリッドの幅、griddash='dot'：破線\n",
    "fig.update_xaxes(gridcolor='lightgrey', gridwidth=1, griddash='dot')\n",
    "fig.update_yaxes(gridcolor='lightgrey', gridwidth=1, griddash='dot')\n",
    "\n",
    "# レイアウトの更新\n",
    "fig.update_layout(\n",
    "\n",
    "    # タイトルの更新\n",
    "    title=dict(\n",
    "        text='グリッドの追加（軸の更新）', # タイトル\n",
    "        font=dict(family='Times New Roman', size=20, color='grey'), # フォントの指定\n",
    "        xref='paper', # container or paper\n",
    "        x=0.5,\n",
    "        y=0.87,\n",
    "        xanchor='center',\n",
    "    ),\n",
    "\n",
    ")\n",
    "\n",
    "# show()メソッドでグラフを描画\n",
    "fig.show()"
   ]
  },
  {
   "cell_type": "code",
   "execution_count": 9,
   "id": "e32f6a87-a354-45ad-bf05-11660876a4c6",
   "metadata": {},
   "outputs": [
    {
     "data": {
      "text/html": [
       "<iframe\n",
       "    scrolling=\"no\"\n",
       "    width=\"820px\"\n",
       "    height=\"520\"\n",
       "    src=\"iframe_figures/figure_9.html\"\n",
       "    frameborder=\"0\"\n",
       "    allowfullscreen\n",
       "></iframe>\n"
      ]
     },
     "metadata": {},
     "output_type": "display_data"
    }
   ],
   "source": [
    "# 軸の設定\n",
    "# tick0：初期軸目盛り, dtick：軸目盛り間隔\n",
    "fig.update_xaxes(dtick='M2')  # 2カ月ごと\n",
    "fig.update_yaxes(tick0=20000 , dtick=2000)\n",
    "\n",
    "# レイアウトの更新\n",
    "fig.update_layout(\n",
    "\n",
    "    # タイトルの更新\n",
    "    title=dict(\n",
    "        text='軸目盛りの間隔変更（軸の更新）', # タイトル\n",
    "        font=dict(family='Times New Roman', size=20, color='grey'), # フォントの指定\n",
    "        xref='paper', # container or paper\n",
    "        x=0.5,\n",
    "        y=0.87,\n",
    "        xanchor='center',\n",
    "    ),\n",
    "\n",
    ")\n",
    "\n",
    "# show()メソッドでグラフを描画\n",
    "fig.show()"
   ]
  },
  {
   "cell_type": "code",
   "execution_count": 10,
   "id": "cc61414b-ea0f-433c-b93a-72a8d84bc3bd",
   "metadata": {},
   "outputs": [
    {
     "data": {
      "text/html": [
       "<iframe\n",
       "    scrolling=\"no\"\n",
       "    width=\"820px\"\n",
       "    height=\"520\"\n",
       "    src=\"iframe_figures/figure_10.html\"\n",
       "    frameborder=\"0\"\n",
       "    allowfullscreen\n",
       "></iframe>\n"
      ]
     },
     "metadata": {},
     "output_type": "display_data"
    }
   ],
   "source": [
    "# 軸の設定\n",
    "# 軸の文字サイズ変更\n",
    "fig.update_xaxes(tickfont=dict(size=15, color='grey'))\n",
    "fig.update_yaxes(tickfont=dict(size=15, color='grey'))\n",
    "\n",
    "# レイアウトの更新\n",
    "fig.update_layout(\n",
    "\n",
    "    # タイトルの更新\n",
    "    title=dict(\n",
    "        text='軸目盛りサイズ変更（軸の更新）', # タイトル\n",
    "        font=dict(family='Times New Roman', size=20, color='grey'), # フォントの指定\n",
    "        xref='paper', # container or paper\n",
    "        x=0.5,\n",
    "        y=0.87,\n",
    "        xanchor='center',\n",
    "    ),\n",
    "\n",
    ")\n",
    "\n",
    "# show()メソッドでグラフを描画\n",
    "fig.show()"
   ]
  },
  {
   "cell_type": "code",
   "execution_count": null,
   "id": "ee3f529d-67bc-4315-aa6d-7567435138af",
   "metadata": {},
   "outputs": [],
   "source": []
  }
 ],
 "metadata": {
  "kernelspec": {
   "display_name": "Python 3 (ipykernel)",
   "language": "python",
   "name": "python3"
  },
  "language_info": {
   "codemirror_mode": {
    "name": "ipython",
    "version": 3
   },
   "file_extension": ".py",
   "mimetype": "text/x-python",
   "name": "python",
   "nbconvert_exporter": "python",
   "pygments_lexer": "ipython3",
   "version": "3.10.12"
  }
 },
 "nbformat": 4,
 "nbformat_minor": 5
}
