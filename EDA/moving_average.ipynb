{
 "cells": [
  {
   "cell_type": "markdown",
   "id": "73655c1a-e82a-4e31-88d2-2e6c58938680",
   "metadata": {},
   "source": [
    "### 移動平均線からの乖離率\n",
    "#### https://note.com/scilabcafe/n/nc2232dcbfe94"
   ]
  },
  {
   "cell_type": "code",
   "execution_count": 1,
   "id": "47f8ade9-ab28-4a66-8011-5f20443dc737",
   "metadata": {},
   "outputs": [],
   "source": [
    "import pandas_datareader.data as web\n",
    "import datetime\n",
    "\n",
    "start = '2023-03-01'\n",
    "end = datetime.date.today()\n",
    "\n",
    "df = web.DataReader('^AEX', 'stooq', start, end)"
   ]
  },
  {
   "cell_type": "code",
   "execution_count": 2,
   "id": "308e1de0-e129-4285-95ea-4cd27e753b41",
   "metadata": {},
   "outputs": [
    {
     "ename": "ModuleNotFoundError",
     "evalue": "No module named 'talib'",
     "output_type": "error",
     "traceback": [
      "\u001b[0;31m---------------------------------------------------------------------------\u001b[0m",
      "\u001b[0;31mModuleNotFoundError\u001b[0m                       Traceback (most recent call last)",
      "Cell \u001b[0;32mIn[2], line 1\u001b[0m\n\u001b[0;32m----> 1\u001b[0m \u001b[38;5;28;01mimport\u001b[39;00m \u001b[38;5;21;01mtalib\u001b[39;00m \u001b[38;5;28;01mas\u001b[39;00m \u001b[38;5;21;01mta\u001b[39;00m\n\u001b[1;32m      3\u001b[0m \u001b[38;5;66;03m# 移動平均\u001b[39;00m\n\u001b[1;32m      4\u001b[0m df[\u001b[38;5;124m'\u001b[39m\u001b[38;5;124mma5\u001b[39m\u001b[38;5;124m'\u001b[39m] \u001b[38;5;241m=\u001b[39m ta\u001b[38;5;241m.\u001b[39mSMA(df[\u001b[38;5;124m'\u001b[39m\u001b[38;5;124mClose\u001b[39m\u001b[38;5;124m'\u001b[39m], \u001b[38;5;241m5\u001b[39m)\n",
      "\u001b[0;31mModuleNotFoundError\u001b[0m: No module named 'talib'"
     ]
    }
   ],
   "source": [
    "import talib as ta\n",
    "\n",
    "# 移動平均\n",
    "df['ma5'] = ta.SMA(df['Close'], 5)\n",
    "\n",
    "# 乖離率\n",
    "df['ma5_deviation_rate'] = (df['Close'] - df['ma5']) / df['ma5'] * 100"
   ]
  },
  {
   "cell_type": "code",
   "execution_count": 3,
   "id": "f22952bd-1572-40d3-9f21-c729b33be26e",
   "metadata": {},
   "outputs": [
    {
     "ename": "ModuleNotFoundError",
     "evalue": "No module named 'talib'",
     "output_type": "error",
     "traceback": [
      "\u001b[0;31m---------------------------------------------------------------------------\u001b[0m",
      "\u001b[0;31mModuleNotFoundError\u001b[0m                       Traceback (most recent call last)",
      "Cell \u001b[0;32mIn[3], line 2\u001b[0m\n\u001b[1;32m      1\u001b[0m \u001b[38;5;28;01mimport\u001b[39;00m \u001b[38;5;21;01mmplfinance\u001b[39;00m \u001b[38;5;28;01mas\u001b[39;00m \u001b[38;5;21;01mmpf\u001b[39;00m\n\u001b[0;32m----> 2\u001b[0m \u001b[38;5;28;01mimport\u001b[39;00m \u001b[38;5;21;01mtalib\u001b[39;00m \u001b[38;5;28;01mas\u001b[39;00m \u001b[38;5;21;01mta\u001b[39;00m\n\u001b[1;32m      4\u001b[0m \u001b[38;5;66;03m# 移動平均\u001b[39;00m\n\u001b[1;32m      5\u001b[0m df[\u001b[38;5;124m'\u001b[39m\u001b[38;5;124mma5\u001b[39m\u001b[38;5;124m'\u001b[39m] \u001b[38;5;241m=\u001b[39m ta\u001b[38;5;241m.\u001b[39mSMA(df[\u001b[38;5;124m'\u001b[39m\u001b[38;5;124mClose\u001b[39m\u001b[38;5;124m'\u001b[39m], \u001b[38;5;241m5\u001b[39m)\n",
      "\u001b[0;31mModuleNotFoundError\u001b[0m: No module named 'talib'"
     ]
    }
   ],
   "source": [
    "import mplfinance as mpf\n",
    "import talib as ta\n",
    "\n",
    "# 移動平均\n",
    "df['ma5'] = ta.SMA(df['Close'], 5)\n",
    "df['ma25'] = ta.SMA(df['Close'], 25)\n",
    "\n",
    "# 乖離率\n",
    "df['ma5_deviation_rate'] = (df['Close'] - df['ma5']) / df['ma5'] * 100\n",
    "df['ma25_deviation_rate'] = (df['Close'] - df['ma25']) / df['ma25'] * 100\n",
    "\n",
    "apd = [\n",
    "    # 移動平均線\n",
    "    mpf.make_addplot(df['ma5'], color='blue', panel=0, width=0.7),\n",
    "    mpf.make_addplot(df['ma25'], color='green', panel=0, width=0.7),\n",
    "    \n",
    "    # 5日移動平均乖離率\n",
    "    mpf.make_addplot(df['ma5_deviation_rate'], color='blue', width=0.9, panel=1),\n",
    "    # 25日移動平均乖離率\n",
    "    mpf.make_addplot(df['ma25_deviation_rate'], color='green', width=0.9, panel=2),\n",
    "]\n",
    "\n",
    "# ラベルをつけてチャートを表示\n",
    "fig, axes = mpf.plot(df, type='candle', addplot=apd, returnfig=True)\n",
    "\n",
    "# ラベルを追加\n",
    "axes[0].legend(['MA5', 'MA25'])\n",
    "axes[2].legend(['MA5_deviation_rate'])\n",
    "axes[4].legend(['MA25_deviation_rate'])\n",
    "\n",
    "# チャートを表示\n",
    "fig.show()"
   ]
  },
  {
   "cell_type": "code",
   "execution_count": null,
   "id": "1d3b77fd-a9fb-406a-b263-2f586b4db979",
   "metadata": {},
   "outputs": [],
   "source": []
  },
  {
   "cell_type": "code",
   "execution_count": null,
   "id": "3f124849-ee84-4e49-be70-75af0545a838",
   "metadata": {},
   "outputs": [],
   "source": []
  },
  {
   "cell_type": "code",
   "execution_count": null,
   "id": "e73039dc-94a0-44eb-8578-36b8d44be9c7",
   "metadata": {},
   "outputs": [],
   "source": []
  },
  {
   "cell_type": "code",
   "execution_count": null,
   "id": "d9b319b9-a7e9-48c7-80df-427c92bd3ae0",
   "metadata": {},
   "outputs": [],
   "source": []
  }
 ],
 "metadata": {
  "kernelspec": {
   "display_name": "Python 3 (ipykernel)",
   "language": "python",
   "name": "python3"
  },
  "language_info": {
   "codemirror_mode": {
    "name": "ipython",
    "version": 3
   },
   "file_extension": ".py",
   "mimetype": "text/x-python",
   "name": "python",
   "nbconvert_exporter": "python",
   "pygments_lexer": "ipython3",
   "version": "3.10.12"
  }
 },
 "nbformat": 4,
 "nbformat_minor": 5
}
