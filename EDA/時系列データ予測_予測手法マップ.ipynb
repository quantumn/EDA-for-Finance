{
 "cells": [
  {
   "cell_type": "markdown",
   "metadata": {},
   "source": [
    "https://qiita.com/sato235/items/48022d2bf023ecd5ceef"
   ]
  },
  {
   "cell_type": "markdown",
   "metadata": {},
   "source": [
    "### 技術マップ（モデルマップ）\n"
   ]
  },
  {
   "cell_type": "markdown",
   "metadata": {},
   "source": [
    "####  マップ総論  \n",
    "整理するにあたり、予測の難易度を設定するにあたり\n",
    "・定常・非定常\n",
    "・線形・非線形\n",
    "の２つの軸があるため、それぞれに対して適用に適している技術をまとめた。\n",
    "なお、難易度は以下のように高くなっている。\n",
    "・定常　＜　非定常\n",
    "・線形　＜　非線形\n",
    "\n",
    "上記を踏まえ、表の形でまとめた。\n",
    "\n",
    "定常性/線形性\t線形\t非線形\n",
    "定常\t-自己回帰（AR,ARMA, ARIMA, SARIMA,ARCH,GARCH,ECM、構造VAR、ベイジアンVAR）\n",
    "-指数平滑化(一次指数、Holt-Winters)\n",
    "-状態空間（カルマンフィルタ）\n",
    "-深層学習(RNN,LSTM,GRU,Transformer)\n",
    "-ベイジアン動的線形\n",
    "-Bass\t-カオス解析（ロジスティック写像など）\n",
    "-状態空間\n",
    "-深層学習\n",
    "-確率的ボラティリティ\n",
    "非定常\t-自己回帰（ARIMA,SARIMA）\n",
    "-状態空間（拡張カルマンフィルタ、非ガウス型フィルタ、粒子フィルタ）\n",
    "-ベイジアン動的線形\n",
    "-マルコフ・スイッチング\t-カオス解析（ロジスティック写像など）\n",
    "-状態空間（拡張カルマンフィルタ、非ガウス型フィルタ、粒子フィルタ）\n",
    "-マルコフ・スイッチング"
   ]
  },
  {
   "cell_type": "code",
   "execution_count": null,
   "metadata": {},
   "outputs": [],
   "source": []
  }
 ],
 "metadata": {
  "language_info": {
   "name": "python"
  }
 },
 "nbformat": 4,
 "nbformat_minor": 2
}
