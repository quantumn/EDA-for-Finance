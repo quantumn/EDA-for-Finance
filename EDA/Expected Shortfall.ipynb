{
 "cells": [
  {
   "cell_type": "markdown",
   "metadata": {},
   "source": [
    "### Expected Shortfall or Conditional VAR ###"
   ]
  },
  {
   "cell_type": "markdown",
   "metadata": {},
   "source": [
    "What is the difference between the two?\n",
    "> Say we are trying to assess our VAR (or to put it simply, potential losses) at a confidence level of 99%, we will have a range of loss outcomes (or scenarios) in the 1% tail, and - \n",
    "* VAR answers this question - What is the minimum loss over the whole range of outcomes in the 1% tail?\n",
    "* ES answers this question - What is the average loss over the whole range of outcomes in the 1% tail?"
   ]
  },
  {
   "cell_type": "markdown",
   "metadata": {},
   "source": [
    "** VAR **"
   ]
  },
  {
   "cell_type": "markdown",
   "metadata": {},
   "source": [
    "If $X$ are the $h$ day returns, then $VaR_{h,\\alpha} = -x_{h, \\alpha}$ where $P(X < -x_{h, \\alpha}) = \\alpha$. For example, for h = 10 day returns, $\\alpha = 0.01$, we can compute the 99% VaR from a normal distribution as follows -"
   ]
  },
  {
   "cell_type": "code",
   "execution_count": null,
   "metadata": {
    "collapsed": true
   },
   "outputs": [],
   "source": [
    "import warnings\n",
    "warnings.filterwarnings('ignore')"
   ]
  },
  {
   "cell_type": "code",
   "execution_count": 2,
   "metadata": {},
   "outputs": [
    {
     "name": "stdout",
     "output_type": "stream",
     "text": [
      "99% VaR is 3.9\n"
     ]
    }
   ],
   "source": [
    "import numpy as np\n",
    "import math\n",
    "from scipy.stats import skew, kurtosis, kurtosistest\n",
    "import matplotlib.pyplot as plt\n",
    "from scipy.stats import norm, t\n",
    "\n",
    "h = 10. # horizon of 10 days\n",
    "mu_h = 0.1 # this is the mean of % returns over 10 days - 10%\n",
    "sig = 0.3 # this is the vol of returns over a year - 30%\n",
    "sig_h = 0.3 * np.sqrt(h/252) # this is the vol over the horizon\n",
    "alpha = 0.01\n",
    "# ppf is the percent point function, inverse of CDF\n",
    "# here we have a mean=0, sd=1 distribution \n",
    "# as we have not specified the shape in ppf\n",
    "# So you can think of this as upscaling by sig_h and shifting mean by mu_h \n",
    "VaR_n = norm.ppf(1-alpha)*sig_h - mu_h \n",
    "\n",
    "print(\"99% VaR is\", round(VaR_n*100,2))"
   ]
  },
  {
   "cell_type": "markdown",
   "metadata": {},
   "source": [
    "The above is parametric VaR, which means that we assume a certain distribution of returns. Most entities, where VAR is used, would typically use empirical VaR, which does not assume any distributional shape. In those cases, getting the VaR is a simple matter of getting the neccesary percentile."
   ]
  },
  {
   "cell_type": "markdown",
   "metadata": {},
   "source": [
    "** CONDITIONAL VAR/EXPECTED SHORTFALL **"
   ]
  },
  {
   "cell_type": "markdown",
   "metadata": {},
   "source": [
    "With VaR in mind, we can define the Conditional VAR, or CVaR or Expected Shortfall by - <br><br>\n",
    "$$CVaR_{h, \\alpha}(X) = -E(X|X < x_{h, \\alpha}) = - \\alpha^{-1}\\int^{x_{h, \\alpha}}_{-\\infty}xf(x)dx$$ <br>\n",
    "Intepretation of this is simple. Basically, it's the expected (mean) value of X, given that X is more than x at a specified alpha. "
   ]
  },
  {
   "cell_type": "markdown",
   "metadata": {},
   "source": [
    "If we assume a normal distribution again, we can apply the following formula <br>\n",
    "\n",
    "$$ CVaR_{h, \\alpha}(X) = - \\alpha^{-1}\\mathcal{N}(\\Phi^{-1}(\\alpha))\\sigma_h-\\mu_h$$ <br>\n",
    "where $\\mathcal{N}(z)$ is the normal distribution, and $\\Phi^{-1}(\\alpha)$ is the $\\alpha$ quantile of the standard normal distribution."
   ]
  },
  {
   "cell_type": "code",
   "execution_count": 5,
   "metadata": {},
   "outputs": [
    {
     "name": "stdout",
     "output_type": "stream",
     "text": [
      "99% CVaR/ES is 5.93\n"
     ]
    }
   ],
   "source": [
    "# with the same parameters as above\n",
    "CVaR_n = alpha**-1 * norm.pdf(norm.ppf(alpha))*sig_h - mu_h\n",
    "\n",
    "print(\"99% CVaR/ES is\", round(CVaR_n*100,2))"
   ]
  },
  {
   "cell_type": "markdown",
   "metadata": {
    "collapsed": true
   },
   "source": [
    "The above assumes a normal distribution, but we can also apply a student-T distribution. The derivation to get the equivalent formula is involved. However, we can compute the equivalent VaRs under a student-T distribution with the following formula - <br>\n",
    "\n",
    "$$ CVaR_{h, \\alpha, v}(X) = - \\alpha^{-1}(1-v)^{-1}[v-2+x^{2}_{\\alpha,v}]f_v(x_{\\alpha,v})\\sigma_h-\\mu_h$$ <br>"
   ]
  },
  {
   "cell_type": "code",
   "execution_count": 6,
   "metadata": {},
   "outputs": [
    {
     "name": "stdout",
     "output_type": "stream",
     "text": [
      "99% VaR (Student-t with v=5) is 5.58\n"
     ]
    }
   ],
   "source": [
    "from scipy.stats import t\n",
    "nu = 5 # degree of freedom, the larger, the closer to normal distribution\n",
    "xanu = t.ppf(alpha, nu)\n",
    "\n",
    "VaR_t = np.sqrt(h/252 * (nu-2)/nu) * t.ppf(1-alpha, nu)*sig - mu_h\n",
    "\n",
    "print(\"99% VaR (Student-t with v=5) is\", round(VaR_t*100,2))"
   ]
  },
  {
   "cell_type": "code",
   "execution_count": 7,
   "metadata": {},
   "outputs": [
    {
     "name": "stdout",
     "output_type": "stream",
     "text": [
      "99% CVaR (Student-t with v=5) is 13.35\n"
     ]
    }
   ],
   "source": [
    "CVaR_t = -1/alpha * (1-nu)**(-1) * (nu-2+xanu**2) * t.pdf(xanu, nu)*sig_h - mu_h\n",
    "print(\"99% CVaR (Student-t with v=5) is\", round(CVaR_t*100,2))"
   ]
  },
  {
   "cell_type": "markdown",
   "metadata": {},
   "source": [
    "It's easy to check if the numbers line up when we assume a large value for the degree of freedom"
   ]
  },
  {
   "cell_type": "code",
   "execution_count": 8,
   "metadata": {},
   "outputs": [
    {
     "name": "stdout",
     "output_type": "stream",
     "text": [
      "99% VaR (Student-t with with v->infinity) is 3.9\n"
     ]
    }
   ],
   "source": [
    "# to verify that the normal and Student-t VAR will be the same for big v\n",
    "nu = 10000000 # degree of freedom, the larger, the closer to normal distribution\n",
    "xanu = t.ppf(alpha, nu)\n",
    "\n",
    "VaR_t = np.sqrt(h/252 * (nu-2)/nu) * t.ppf(1-alpha, nu)*sig - mu_h\n",
    "print(\"99% VaR (Student-t with with v->infinity) is\", round(VaR_t*100,2))"
   ]
  },
  {
   "cell_type": "code",
   "execution_count": 9,
   "metadata": {},
   "outputs": [
    {
     "name": "stdout",
     "output_type": "stream",
     "text": [
      "99% CVaR (Student-t with with v->infinity) is 5.93\n"
     ]
    }
   ],
   "source": [
    "CVaR_t = -1/alpha * (1-nu)**(-1) * (nu-2+xanu**2) * t.pdf(xanu, nu)*sig_h - mu_h\n",
    "print(\"99% CVaR (Student-t with with v->infinity) is\", round(CVaR_t*100,2))"
   ]
  },
  {
   "cell_type": "markdown",
   "metadata": {},
   "source": [
    "** Plotting VAR and CVAR with varying degrees of freedom **"
   ]
  },
  {
   "cell_type": "code",
   "execution_count": 10,
   "metadata": {},
   "outputs": [
    {
     "data": {
      "image/png": "[encoded data removed]",
      "text/plain": [
       "<Figure size 700x400 with 1 Axes>"
      ]
     },
     "metadata": {},
     "output_type": "display_data"
    }
   ],
   "source": [
    "%matplotlib inline\n",
    "\n",
    "d = []\n",
    "for nu in range(5, 100):\n",
    "    xanu = t.ppf(alpha, nu)\n",
    "    CVaR_t = -1/alpha * (1-nu)**(-1) * (nu-2+xanu**2) * \\\n",
    "             t.pdf(xanu, nu)*sig_h - mu_h\n",
    "    VaR_t = np.sqrt(h/252 * (nu-2)/nu) * t.ppf(1-alpha, nu)*sig \\\n",
    "             - mu_h\n",
    "    d.append([nu, VaR_t, CVaR_t])\n",
    " \n",
    "d = np.array(d).T\n",
    " \n",
    "fig, ax = plt.subplots(figsize=(7,4))\n",
    "plt.plot(d[0], d[1]*100, 'b-', label=\"VaR_t\")\n",
    "plt.plot(np.arange(5, 100), VaR_n*np.ones(95)*100, \":k\", label=\"VaR_n\")\n",
    "plt.plot(d[0], d[2]*100, 'r-', label=\"CVaR_t\")\n",
    "plt.plot(np.arange(5, 100), CVaR_n*np.ones(95)*100, \":r\",label=\"CVaR_n\" )\n",
    "plt.xlabel(\"Student $t$ d.o.f.\")\n",
    "plt.ylabel(\"%\")\n",
    "plt.legend(loc=1)\n",
    "ax.margins(x=0.025, y=0.05) # add extra padding"
   ]
  },
  {
   "cell_type": "markdown",
   "metadata": {},
   "source": [
    "### Computing ES for an actual set of returns ###"
   ]
  },
  {
   "cell_type": "code",
   "execution_count": 11,
   "metadata": {
    "collapsed": true
   },
   "outputs": [],
   "source": [
    "import quandl\n",
    "import datetime\n",
    "quandl.ApiConfig.api_key = \"\""
   ]
  },
  {
   "cell_type": "code",
   "execution_count": 12,
   "metadata": {
    "collapsed": true
   },
   "outputs": [
    {
     "ename": "NotFoundError",
     "evalue": "(Status 404) (Quandl Error QECx02) You have submitted an incorrect Dataset code. Please check your Dataset codes and try again.",
     "output_type": "error",
     "traceback": [
      "\u001b[0;31m---------------------------------------------------------------------------\u001b[0m",
      "\u001b[0;31mNotFoundError\u001b[0m                             Traceback (most recent call last)",
      "Cell \u001b[0;32mIn[12], line 3\u001b[0m\n\u001b[1;32m      1\u001b[0m end \u001b[38;5;241m=\u001b[39m datetime\u001b[38;5;241m.\u001b[39mdatetime\u001b[38;5;241m.\u001b[39mnow()\n\u001b[1;32m      2\u001b[0m start \u001b[38;5;241m=\u001b[39m end \u001b[38;5;241m-\u001b[39m datetime\u001b[38;5;241m.\u001b[39mtimedelta(\u001b[38;5;241m365\u001b[39m\u001b[38;5;241m*\u001b[39m\u001b[38;5;241m5\u001b[39m)\n\u001b[0;32m----> 3\u001b[0m AAPL \u001b[38;5;241m=\u001b[39m \u001b[43mquandl\u001b[49m\u001b[38;5;241;43m.\u001b[39;49m\u001b[43mget\u001b[49m\u001b[43m(\u001b[49m\u001b[38;5;124;43m'\u001b[39;49m\u001b[38;5;124;43mEOD/AAPL\u001b[39;49m\u001b[38;5;124;43m'\u001b[39;49m\u001b[43m,\u001b[49m\u001b[43m \u001b[49m\u001b[43mstart_date\u001b[49m\u001b[38;5;241;43m=\u001b[39;49m\u001b[43mstart\u001b[49m\u001b[43m,\u001b[49m\u001b[43m \u001b[49m\u001b[43mend_date\u001b[49m\u001b[38;5;241;43m=\u001b[39;49m\u001b[43mend\u001b[49m\u001b[43m)\u001b[49m\n",
      "File \u001b[0;32m~/.local/lib/python3.10/site-packages/quandl/get.py:48\u001b[0m, in \u001b[0;36mget\u001b[0;34m(dataset, **kwargs)\u001b[0m\n\u001b[1;32m     46\u001b[0m     \u001b[38;5;28;01mif\u001b[39;00m dataset_args[\u001b[38;5;124m'\u001b[39m\u001b[38;5;124mcolumn_index\u001b[39m\u001b[38;5;124m'\u001b[39m] \u001b[38;5;129;01mis\u001b[39;00m \u001b[38;5;129;01mnot\u001b[39;00m \u001b[38;5;28;01mNone\u001b[39;00m:\n\u001b[1;32m     47\u001b[0m         kwargs\u001b[38;5;241m.\u001b[39mupdate({\u001b[38;5;124m'\u001b[39m\u001b[38;5;124mcolumn_index\u001b[39m\u001b[38;5;124m'\u001b[39m: dataset_args[\u001b[38;5;124m'\u001b[39m\u001b[38;5;124mcolumn_index\u001b[39m\u001b[38;5;124m'\u001b[39m]})\n\u001b[0;32m---> 48\u001b[0m     data \u001b[38;5;241m=\u001b[39m \u001b[43mDataset\u001b[49m\u001b[43m(\u001b[49m\u001b[43mdataset_args\u001b[49m\u001b[43m[\u001b[49m\u001b[38;5;124;43m'\u001b[39;49m\u001b[38;5;124;43mcode\u001b[39;49m\u001b[38;5;124;43m'\u001b[39;49m\u001b[43m]\u001b[49m\u001b[43m)\u001b[49m\u001b[38;5;241;43m.\u001b[39;49m\u001b[43mdata\u001b[49m\u001b[43m(\u001b[49m\u001b[43mparams\u001b[49m\u001b[38;5;241;43m=\u001b[39;49m\u001b[43mkwargs\u001b[49m\u001b[43m,\u001b[49m\u001b[43m \u001b[49m\u001b[43mhandle_column_not_found\u001b[49m\u001b[38;5;241;43m=\u001b[39;49m\u001b[38;5;28;43;01mTrue\u001b[39;49;00m\u001b[43m)\u001b[49m\n\u001b[1;32m     49\u001b[0m \u001b[38;5;66;03m# Array\u001b[39;00m\n\u001b[1;32m     50\u001b[0m \u001b[38;5;28;01melif\u001b[39;00m \u001b[38;5;28misinstance\u001b[39m(dataset, \u001b[38;5;28mlist\u001b[39m):\n",
      "File \u001b[0;32m~/.local/lib/python3.10/site-packages/quandl/model/dataset.py:47\u001b[0m, in \u001b[0;36mDataset.data\u001b[0;34m(self, **options)\u001b[0m\n\u001b[1;32m     45\u001b[0m updated_options \u001b[38;5;241m=\u001b[39m Util\u001b[38;5;241m.\u001b[39mmerge_options(\u001b[38;5;124m'\u001b[39m\u001b[38;5;124mparams\u001b[39m\u001b[38;5;124m'\u001b[39m, params, \u001b[38;5;241m*\u001b[39m\u001b[38;5;241m*\u001b[39moptions)\n\u001b[1;32m     46\u001b[0m \u001b[38;5;28;01mtry\u001b[39;00m:\n\u001b[0;32m---> 47\u001b[0m     \u001b[38;5;28;01mreturn\u001b[39;00m \u001b[43mData\u001b[49m\u001b[38;5;241;43m.\u001b[39;49m\u001b[43mall\u001b[49m\u001b[43m(\u001b[49m\u001b[38;5;241;43m*\u001b[39;49m\u001b[38;5;241;43m*\u001b[39;49m\u001b[43mupdated_options\u001b[49m\u001b[43m)\u001b[49m\n\u001b[1;32m     48\u001b[0m \u001b[38;5;28;01mexcept\u001b[39;00m NotFoundError:\n\u001b[1;32m     49\u001b[0m     \u001b[38;5;28;01mif\u001b[39;00m handle_not_found_error:\n",
      "File \u001b[0;32m~/.local/lib/python3.10/site-packages/quandl/operations/list.py:15\u001b[0m, in \u001b[0;36mListOperation.all\u001b[0;34m(cls, **options)\u001b[0m\n\u001b[1;32m     13\u001b[0m     options[\u001b[38;5;124m'\u001b[39m\u001b[38;5;124mparams\u001b[39m\u001b[38;5;124m'\u001b[39m] \u001b[38;5;241m=\u001b[39m {}\n\u001b[1;32m     14\u001b[0m path \u001b[38;5;241m=\u001b[39m Util\u001b[38;5;241m.\u001b[39mconstructed_path(\u001b[38;5;28mcls\u001b[39m\u001b[38;5;241m.\u001b[39mlist_path(), options[\u001b[38;5;124m'\u001b[39m\u001b[38;5;124mparams\u001b[39m\u001b[38;5;124m'\u001b[39m])\n\u001b[0;32m---> 15\u001b[0m r \u001b[38;5;241m=\u001b[39m \u001b[43mConnection\u001b[49m\u001b[38;5;241;43m.\u001b[39;49m\u001b[43mrequest\u001b[49m\u001b[43m(\u001b[49m\u001b[38;5;124;43m'\u001b[39;49m\u001b[38;5;124;43mget\u001b[39;49m\u001b[38;5;124;43m'\u001b[39;49m\u001b[43m,\u001b[49m\u001b[43m \u001b[49m\u001b[43mpath\u001b[49m\u001b[43m,\u001b[49m\u001b[43m \u001b[49m\u001b[38;5;241;43m*\u001b[39;49m\u001b[38;5;241;43m*\u001b[39;49m\u001b[43moptions\u001b[49m\u001b[43m)\u001b[49m\n\u001b[1;32m     16\u001b[0m response_data \u001b[38;5;241m=\u001b[39m r\u001b[38;5;241m.\u001b[39mjson()\n\u001b[1;32m     17\u001b[0m Util\u001b[38;5;241m.\u001b[39mconvert_to_dates(response_data)\n",
      "File \u001b[0;32m~/.local/lib/python3.10/site-packages/quandl/connection.py:38\u001b[0m, in \u001b[0;36mConnection.request\u001b[0;34m(cls, http_verb, url, **options)\u001b[0m\n\u001b[1;32m     34\u001b[0m options[\u001b[38;5;124m'\u001b[39m\u001b[38;5;124mheaders\u001b[39m\u001b[38;5;124m'\u001b[39m] \u001b[38;5;241m=\u001b[39m headers\n\u001b[1;32m     36\u001b[0m abs_url \u001b[38;5;241m=\u001b[39m \u001b[38;5;124m'\u001b[39m\u001b[38;5;132;01m%s\u001b[39;00m\u001b[38;5;124m/\u001b[39m\u001b[38;5;132;01m%s\u001b[39;00m\u001b[38;5;124m'\u001b[39m \u001b[38;5;241m%\u001b[39m (ApiConfig\u001b[38;5;241m.\u001b[39mapi_base, url)\n\u001b[0;32m---> 38\u001b[0m \u001b[38;5;28;01mreturn\u001b[39;00m \u001b[38;5;28;43mcls\u001b[39;49m\u001b[38;5;241;43m.\u001b[39;49m\u001b[43mexecute_request\u001b[49m\u001b[43m(\u001b[49m\u001b[43mhttp_verb\u001b[49m\u001b[43m,\u001b[49m\u001b[43m \u001b[49m\u001b[43mabs_url\u001b[49m\u001b[43m,\u001b[49m\u001b[43m \u001b[49m\u001b[38;5;241;43m*\u001b[39;49m\u001b[38;5;241;43m*\u001b[39;49m\u001b[43moptions\u001b[49m\u001b[43m)\u001b[49m\n",
      "File \u001b[0;32m~/.local/lib/python3.10/site-packages/quandl/connection.py:50\u001b[0m, in \u001b[0;36mConnection.execute_request\u001b[0;34m(cls, http_verb, url, **options)\u001b[0m\n\u001b[1;32m     45\u001b[0m response \u001b[38;5;241m=\u001b[39m session\u001b[38;5;241m.\u001b[39mrequest(method\u001b[38;5;241m=\u001b[39mhttp_verb,\n\u001b[1;32m     46\u001b[0m                            url\u001b[38;5;241m=\u001b[39murl,\n\u001b[1;32m     47\u001b[0m                            verify\u001b[38;5;241m=\u001b[39mApiConfig\u001b[38;5;241m.\u001b[39mverify_ssl,\n\u001b[1;32m     48\u001b[0m                            \u001b[38;5;241m*\u001b[39m\u001b[38;5;241m*\u001b[39moptions)\n\u001b[1;32m     49\u001b[0m \u001b[38;5;28;01mif\u001b[39;00m response\u001b[38;5;241m.\u001b[39mstatus_code \u001b[38;5;241m<\u001b[39m \u001b[38;5;241m200\u001b[39m \u001b[38;5;129;01mor\u001b[39;00m response\u001b[38;5;241m.\u001b[39mstatus_code \u001b[38;5;241m>\u001b[39m\u001b[38;5;241m=\u001b[39m \u001b[38;5;241m300\u001b[39m:\n\u001b[0;32m---> 50\u001b[0m     \u001b[38;5;28;43mcls\u001b[39;49m\u001b[38;5;241;43m.\u001b[39;49m\u001b[43mhandle_api_error\u001b[49m\u001b[43m(\u001b[49m\u001b[43mresponse\u001b[49m\u001b[43m)\u001b[49m\n\u001b[1;32m     51\u001b[0m \u001b[38;5;28;01melse\u001b[39;00m:\n\u001b[1;32m     52\u001b[0m     \u001b[38;5;28;01mreturn\u001b[39;00m response\n",
      "File \u001b[0;32m~/.local/lib/python3.10/site-packages/quandl/connection.py:114\u001b[0m, in \u001b[0;36mConnection.handle_api_error\u001b[0;34m(cls, resp)\u001b[0m\n\u001b[1;32m    103\u001b[0m d_klass \u001b[38;5;241m=\u001b[39m {\n\u001b[1;32m    104\u001b[0m     \u001b[38;5;124m'\u001b[39m\u001b[38;5;124mL\u001b[39m\u001b[38;5;124m'\u001b[39m: LimitExceededError,\n\u001b[1;32m    105\u001b[0m     \u001b[38;5;124m'\u001b[39m\u001b[38;5;124mM\u001b[39m\u001b[38;5;124m'\u001b[39m: InternalServerError,\n\u001b[0;32m   (...)\u001b[0m\n\u001b[1;32m    110\u001b[0m     \u001b[38;5;124m'\u001b[39m\u001b[38;5;124mX\u001b[39m\u001b[38;5;124m'\u001b[39m: ServiceUnavailableError\n\u001b[1;32m    111\u001b[0m }\n\u001b[1;32m    112\u001b[0m klass \u001b[38;5;241m=\u001b[39m d_klass\u001b[38;5;241m.\u001b[39mget(code_letter, QuandlError)\n\u001b[0;32m--> 114\u001b[0m \u001b[38;5;28;01mraise\u001b[39;00m klass(message, resp\u001b[38;5;241m.\u001b[39mstatus_code, resp\u001b[38;5;241m.\u001b[39mtext, resp\u001b[38;5;241m.\u001b[39mheaders, code)\n",
      "\u001b[0;31mNotFoundError\u001b[0m: (Status 404) (Quandl Error QECx02) You have submitted an incorrect Dataset code. Please check your Dataset codes and try again."
     ]
    }
   ],
   "source": [
    "end = datetime.datetime.now()\n",
    "start = end - datetime.timedelta(365*5)\n",
    "AAPL = quandl.get('EOD/AAPL', start_date=start, end_date=end)"
   ]
  },
  {
   "cell_type": "code",
   "execution_count": 11,
   "metadata": {
    "collapsed": true
   },
   "outputs": [],
   "source": [
    "returns = (AAPL['Close']/AAPL['Close'].shift(1))-1\n",
    "# Take the array from 2nd (element 1) to end and divide it by the array less the last element\n",
    "# Basically tom - today for each element"
   ]
  },
  {
   "cell_type": "code",
   "execution_count": 12,
   "metadata": {},
   "outputs": [
    {
     "data": {
      "text/plain": [
       "array([-0.00713669, -0.01242879,  0.02351337, ...,  0.00760178,\n",
       "       -0.01077126,  0.01438023])"
      ]
     },
     "execution_count": 12,
     "metadata": {},
     "output_type": "execute_result"
    }
   ],
   "source": [
    "returns = returns.dropna().values\n",
    "returns"
   ]
  },
  {
   "cell_type": "markdown",
   "metadata": {},
   "source": [
    "Fitting to a normal distribution"
   ]
  },
  {
   "cell_type": "code",
   "execution_count": 13,
   "metadata": {},
   "outputs": [
    {
     "name": "stdout",
     "output_type": "stream",
     "text": [
      "Normal mean is 0.00032809, sigma is 0.02798557\n"
     ]
    }
   ],
   "source": [
    "mu_norm, sig_norm = norm.fit(returns) # extract the mean and sigma of the closest normal distribution fit\n",
    "print(\"Normal mean is {0:.8f}, sigma is {1:.8f}\".format(mu_norm, sig_norm))\n",
    "dx = 0.0001 # resolution of the distribution\n",
    "x = np.arange(-1, 1, dx)\n",
    "pdf_n = norm.pdf(x, mu_norm, sig_norm)"
   ]
  },
  {
   "cell_type": "markdown",
   "metadata": {},
   "source": [
    "Fitting to a t-distribution"
   ]
  },
  {
   "cell_type": "code",
   "execution_count": 14,
   "metadata": {},
   "outputs": [
    {
     "name": "stdout",
     "output_type": "stream",
     "text": [
      "Student T mean is 0.00094189, sigma is 0.00959287, nu is 3.0\n"
     ]
    }
   ],
   "source": [
    "nu, mu_t, sig_t = t.fit(returns)\n",
    "nu = np.round(nu)\n",
    "print(\"Student T mean is {0:.8f}, sigma is {1:.8f}, nu is {2}\".format(mu_t, sig_t, nu))\n",
    "pdf_t = t.pdf(x, nu, mu_t, sig_t)"
   ]
  },
  {
   "cell_type": "code",
   "execution_count": 15,
   "metadata": {
    "collapsed": true
   },
   "outputs": [],
   "source": [
    "h = 1\n",
    "alpha = 0.01\n",
    "xanu = t.ppf(alpha, nu)\n",
    "\n",
    "CVaR_n = alpha**-1 * norm.pdf(norm.ppf(alpha))*sig_norm - mu_norm\n",
    "VaR_n = norm.ppf(1-alpha)*sig_norm - mu_norm\n",
    " \n",
    "VaR_t = np.sqrt((nu-2)/nu) * t.ppf(1-alpha, nu)*sig_norm  - h*mu_norm\n",
    "CVaR_t = -1/alpha * (1-nu)**(-1) * (nu-2+xanu**2) * t.pdf(xanu, nu)*sig_norm  - h*mu_norm"
   ]
  },
  {
   "cell_type": "code",
   "execution_count": 16,
   "metadata": {},
   "outputs": [
    {
     "name": "stdout",
     "output_type": "stream",
     "text": [
      "The 99% VaR (Normal) is 6.48%\n",
      "The 99% CVaR (Normal) is 7.43%\n",
      "The 99% VaR (Student-t) is 7.30%\n",
      "The 99% CVaR (Student-t) is 17.91%\n"
     ]
    }
   ],
   "source": [
    "print(\"The 99% VaR (Normal) is {0:.2f}%\".format(VaR_n*100))\n",
    "print(\"The 99% CVaR (Normal) is {0:.2f}%\".format(CVaR_n*100))\n",
    "print(\"The 99% VaR (Student-t) is {0:.2f}%\".format(VaR_t*100))\n",
    "print(\"The 99% CVaR (Student-t) is {0:.2f}%\".format(CVaR_t*100))"
   ]
  },
  {
   "cell_type": "code",
   "execution_count": 17,
   "metadata": {},
   "outputs": [
    {
     "data": {
      "image/png": "[encoded data removed]",
      "text/plain": [
       "<matplotlib.figure.Figure at 0x110a64438>"
      ]
     },
     "metadata": {},
     "output_type": "display_data"
    }
   ],
   "source": [
    "import seaborn as sns\n",
    "plt.figure(num=1, figsize=(11, 6))\n",
    "# main figure\n",
    "plt.hist(returns, bins=100, normed=True, color='pink', edgecolor='white')\n",
    "plt.hold(True)\n",
    "plt.axis(\"tight\")\n",
    "plt.plot(x, pdf_n, 'steelblue', label=\"Normal PDF fit\")\n",
    "plt.hold(True)\n",
    "plt.axis(\"tight\")\n",
    "plt.plot(x, pdf_t, 'red', label=\"Student t PDF fit\")\n",
    "plt.xlim([min(returns)/2, max(returns)])\n",
    "plt.ylim([0, 50])\n",
    "plt.legend(loc=\"best\")\n",
    "plt.xlabel(\"Daily Returns of Google(Source:Quandl)\")\n",
    "plt.ylabel(\"Return Distribution\")\n",
    "# inset\n",
    "a = plt.axes([.22, .35, .3, .4])\n",
    "plt.hist(returns, bins=100, normed=True, color='pink', edgecolor='white')\n",
    "plt.hold(True)\n",
    "plt.plot(x, pdf_n, 'steelblue')\n",
    "plt.hold(True)\n",
    "plt.plot(x, pdf_t, 'red')\n",
    "plt.hold(True)\n",
    "# Student VaR line\n",
    "plt.plot([-CVaR_t, -CVaR_t], [0, 1.2], c='red')\n",
    "# Normal VaR line\n",
    "plt.plot([-CVaR_n, -CVaR_n], [0, 1.6], c='steelblue')\n",
    "plt.text(-CVaR_n-0.015, 1.6, \"Norm CVaR\", color='steelblue')\n",
    "plt.text(-CVaR_t-0.0171, 1.2, \"Student t CVaR\", color='red')\n",
    "plt.xlim([-0.2, -0.02])\n",
    "plt.ylim([0, 2])\n",
    "plt.show()"
   ]
  },
  {
   "cell_type": "code",
   "execution_count": null,
   "metadata": {
    "collapsed": true
   },
   "outputs": [],
   "source": []
  }
 ],
 "metadata": {
  "kernelspec": {
   "display_name": "Python_project",
   "language": "python",
   "name": "python3"
  },
  "language_info": {
   "codemirror_mode": {
    "name": "ipython",
    "version": 3
   },
   "file_extension": ".py",
   "mimetype": "text/x-python",
   "name": "python",
   "nbconvert_exporter": "python",
   "pygments_lexer": "ipython3",
   "version": "3.12.3"
  }
 },
 "nbformat": 4,
 "nbformat_minor": 1
}
