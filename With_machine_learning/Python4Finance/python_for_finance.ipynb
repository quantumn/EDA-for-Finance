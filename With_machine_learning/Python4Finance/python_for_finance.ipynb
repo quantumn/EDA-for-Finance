{
 "cells": [
  {
   "cell_type": "code",
   "execution_count": 1,
   "metadata": {},
   "outputs": [],
   "source": [
    "# Provides ways to work with large multidimensional arrays\n",
    "import numpy as np \n",
    "# Allows for further data manipulation and analysis\n",
    "import pandas as pd\n",
    "from pandas_datareader import data as web # Reads stock data \n",
    "import matplotlib.pyplot as plt # Plotting\n",
    "import matplotlib.dates as mdates # Styling dates\n",
    "%matplotlib inline\n",
    "\n",
    "import datetime as dt # For defining dates\n",
    "import mplfinance as mpf # Matplotlib finance"
   ]
  },
  {
   "cell_type": "markdown",
   "metadata": {},
   "source": [
    "## Function that Saves Stock Data to CSV"
   ]
  },
  {
   "cell_type": "code",
   "execution_count": 2,
   "metadata": {},
   "outputs": [],
   "source": [
    "def save_to_csv_from_yahoo(ticker, syear, smonth, sday, eyear, emonth, eday):\n",
    "    '''\n",
    "    Function that gets a dataframe by providing a ticker and starting date\n",
    "    '''\n",
    "    # Defines the time periods to use\n",
    "    start = dt.datetime(syear, smonth, sday)\n",
    "    end = dt.datetime(eyear, emonth, eday)\n",
    "    \n",
    "    # Reads data into a dataframe\n",
    "    df = web.DataReader(ticker, 'yahoo', start, end)\n",
    "    \n",
    "    # Save data to a CSV file\n",
    "    df.to_csv(\"/Users/derekbanas/Documents/Tutorials/Python4Finance/\" + ticker + '.csv')\n",
    "    return df"
   ]
  },
  {
   "cell_type": "markdown",
   "metadata": {},
   "source": [
    "## Function that Returns a Dataframe from a CSV"
   ]
  },
  {
   "cell_type": "code",
   "execution_count": 3,
   "metadata": {},
   "outputs": [],
   "source": [
    "def get_df_from_csv(ticker):\n",
    "    '''\n",
    "    Reads a dataframe from the CSV file, changes index to date and returns it\n",
    "    '''\n",
    "    # Try to get the file and if it doesn't exist issue a warning\n",
    "    try:\n",
    "        df = pd.read_csv(\"/home/bayes/Desktop/Python_Here/Python4Finance/\" + ticker + '.csv')\n",
    "    except FileNotFoundError:\n",
    "        print(\"File Doesn't Exist\")\n",
    "    else:\n",
    "        return df"
   ]
  },
  {
   "cell_type": "markdown",
   "metadata": {},
   "source": [
    "## Add Daily Return to Dataframe"
   ]
  },
  {
   "cell_type": "code",
   "execution_count": 4,
   "metadata": {},
   "outputs": [],
   "source": [
    "\n",
    "def add_daily_return_to_df(df, ticker):\n",
    "    '''\n",
    "    We calculate a percentage rate of return for each day to compare investments.\n",
    "    Simple Rate of Return = (End Price - Beginning Price) / Beginning Price OR (EP / BP) - 1\n",
    "    Shift provides the value from the previous day\n",
    "    NaN is displayed because there was no previous day price for the 1st calculation\n",
    "    '''\n",
    "    df['daily_return'] = (df['Close'] / df['Close'].shift(1)) - 1\n",
    "    # Save data to a CSV file\n",
    "    df.to_csv(\"/home/bayes/Desktop/Python_Here/Python4Finance/Python for Finance 1.ipynb\" + ticker + '.csv')\n",
    "    return df  "
   ]
  },
  {
   "cell_type": "markdown",
   "metadata": {},
   "source": [
    "## Returns Total Return over Time"
   ]
  },
  {
   "cell_type": "code",
   "execution_count": 5,
   "metadata": {},
   "outputs": [],
   "source": [
    "def get_return_defined_time(df, syear, smonth, sday, eyear, emonth, eday):\n",
    "    '''\n",
    "    Returns Total Return over Time\n",
    "    '''\n",
    "    # Create string representations for the dates\n",
    "    start = f\"{syear}-{smonth}-{sday}\"\n",
    "    end = f\"{eyear}-{emonth}-{eday}\"\n",
    "    df['Date'] = pd.to_datetime(df['Date'])\n",
    "    \n",
    "    # Use a mask to grab data between defined dates\n",
    "    mask = (df['Date'] >= start) & (df['Date'] <= end)\n",
    "    \n",
    "    # Get the mean of the column named daily return\n",
    "    daily_ret = df.loc[mask]['daily_return'].mean()\n",
    "    \n",
    "    # Get the number of days between 2 dates\n",
    "    df2 = df.loc[mask]\n",
    "    days = df2.shape[0]\n",
    "\n",
    "    # Return the total return between 2 dates\n",
    "    return (days * daily_ret)"
   ]
  },
  {
   "cell_type": "markdown",
   "metadata": {},
   "source": [
    "## Matplotlib Finance"
   ]
  },
  {
   "cell_type": "code",
   "execution_count": 6,
   "metadata": {},
   "outputs": [],
   "source": [
    "def mplfinance_plot(ticker, chart_type, syear, smonth, sday, eyear, emonth, eday):\n",
    "    ''''Receives a ticker and the date range for which to plot\n",
    "    '''\n",
    "    # Create string representations for the dates\n",
    "    start = f\"{syear}-{smonth}-{sday}\"\n",
    "    end = f\"{eyear}-{emonth}-{eday}\"\n",
    "    \n",
    "    try:\n",
    "        df = pd.read_csv('/Users/derekbanas/Documents/Tutorials/Python for Finance/' + ticker + '.csv',index_col=0,parse_dates=True)\n",
    "    except FileNotFoundError:\n",
    "        print(\"File Doesn't Exist\")\n",
    "    else:\n",
    "        \n",
    "        # Set data.index as DatetimeIndex\n",
    "        df.index = pd.DatetimeIndex(df['Date'])\n",
    "        \n",
    "        # Define to only use data between provided dates\n",
    "        df_sub = df.loc[start:end]\n",
    "        \n",
    "        # A candlestick chart demonstrates the daily open, high, low and closing price of a stock\n",
    "        mpf.plot(df_sub,type='candle')\n",
    "\n",
    "        # Plot price changes\n",
    "        mpf.plot(df_sub,type='line')\n",
    "\n",
    "        # Moving averages provide trend information (Average of previous 4 observations)\n",
    "        mpf.plot(df_sub,type='ohlc',mav=4)\n",
    "        \n",
    "        # Define a built in style\n",
    "        s = mpf.make_mpf_style(base_mpf_style='charles', rc={'font.size': 8})\n",
    "        # Pass in the defined style to the whole canvas\n",
    "        fig = mpf.figure(figsize=(12, 8), style=s) \n",
    "        # Candle stick chart subplot\n",
    "        ax = fig.add_subplot(2,1,1) \n",
    "        # Volume chart subplot\n",
    "        av = fig.add_subplot(2,1,2, sharex=ax)  \n",
    "\n",
    "        # You can plot multiple MAVs, volume, non-trading days\n",
    "        mpf.plot(df_sub,type=chart_type, mav=(3,5,7), ax=ax, volume=av, show_nontrading=True)"
   ]
  },
  {
   "cell_type": "markdown",
   "metadata": {},
   "source": [
    "## Simple Price Plot"
   ]
  },
  {
   "cell_type": "code",
   "execution_count": 7,
   "metadata": {},
   "outputs": [],
   "source": [
    "def price_plot(ticker, syear, smonth, sday, eyear, emonth, eday):\n",
    "    '''Creates a simple price / date plot between dates\n",
    "    '''\n",
    "    # Create string representations for the dates\n",
    "    start = f\"{syear}-{smonth}-{sday}\"\n",
    "    end = f\"{eyear}-{emonth}-{eday}\"\n",
    "    \n",
    "    try:\n",
    "        df = pd.read_csv(\"/Users/derekbanas/Documents/Tutorials/Python for Finance/\" + ticker + '.csv')\n",
    "    except FileNotFoundError:\n",
    "        print(\"File Doesn't Exist\")\n",
    "    else:\n",
    "        \n",
    "        # Set data.index as DatetimeIndex\n",
    "        df.index = pd.DatetimeIndex(df['Date'])\n",
    "        \n",
    "        # Define to only use data between provided dates\n",
    "        df_sub = df.loc[start:end]\n",
    "        \n",
    "        # Convert to Numpy array\n",
    "        df_np = df_sub.to_numpy()\n",
    "        \n",
    "        # Get adjusted close data from the 5th column\n",
    "        np_adj_close = df_np[:,5]\n",
    "        \n",
    "        # Get date from the 1st\n",
    "        date_arr = df_np[:,1]\n",
    "        \n",
    "        # Defines area taken up by the plot\n",
    "        fig = plt.figure(figsize=(12,8),dpi=100)\n",
    "        axes = fig.add_axes([0,0,1,1])\n",
    "        \n",
    "        # Define the plot line color as navy\n",
    "        axes.plot(date_arr, np_adj_close, color='navy')\n",
    "        \n",
    "        # Set max ticks on the x axis\n",
    "        axes.xaxis.set_major_locator(plt.MaxNLocator(8))\n",
    "        \n",
    "        # Add a grid, color, dashes(5pts 1 pt dashes separated by 2pt space)\n",
    "        axes.grid(True, color='0.6', dashes=(5, 2, 1, 2))\n",
    "        \n",
    "        # Set grid background color\n",
    "        axes.set_facecolor('#FAEBD7')"
   ]
  },
  {
   "cell_type": "markdown",
   "metadata": {},
   "source": [
    "## Download Multiple Stocks"
   ]
  },
  {
   "cell_type": "code",
   "execution_count": 8,
   "metadata": {},
   "outputs": [],
   "source": [
    "def download_multiple_stocks(syear, smonth, sday, eyear, emonth, eday, *args):\n",
    "    '''Download Multiple Stocks\n",
    "    '''\n",
    "    for x in args:\n",
    "        save_to_csv_from_yahoo(x, syear, smonth, sday, eyear, emonth, eday)"
   ]
  },
  {
   "cell_type": "markdown",
   "metadata": {},
   "source": [
    "## Merge Multiple Stocks in One Dataframe by Column Name"
   ]
  },
  {
   "cell_type": "code",
   "execution_count": 9,
   "metadata": {},
   "outputs": [],
   "source": [
    "def merge_df_by_column_name(col_name, syear, smonth, sday, eyear, emonth, eday, *tickers):\n",
    "    '''\n",
    "    Merge Multiple Stocks in One Dataframe by Column Name\n",
    "    '''\n",
    "    # Will hold data for all dataframes with the same column name\n",
    "    mult_df = pd.DataFrame()\n",
    "    \n",
    "    start = f\"{syear}-{smonth}-{sday}\"\n",
    "    end = f\"{eyear}-{emonth}-{eday}\"\n",
    "    \n",
    "    for x in tickers:\n",
    "        mult_df[x] = web.DataReader(x, 'yahoo', start, end)[col_name]\n",
    "        \n",
    "    return mult_df"
   ]
  },
  {
   "cell_type": "markdown",
   "metadata": {},
   "source": [
    "## Get Changing Value of Investment using Multiple Stocks"
   ]
  },
  {
   "cell_type": "code",
   "execution_count": 10,
   "metadata": {},
   "outputs": [],
   "source": [
    "def plot_return_mult_stocks(investment, stock_df):\n",
    "    '''Get Changing Value of Investment using Multiple Stocks\n",
    "    '''\n",
    "    (stock_df / stock_df.iloc[0] * investment).plot(figsize = (15,6))"
   ]
  },
  {
   "cell_type": "markdown",
   "metadata": {},
   "source": [
    "## Get Standard Deviation for Multiple Stocks"
   ]
  },
  {
   "cell_type": "markdown",
   "metadata": {},
   "source": [
    "Risk is a measure of the variability of return. Variance and Standard Deviation allow us to quantify risk.\n",
    "\n",
    "\n",
    "Variance is a measure of how spread out a data set is. It is calculated as the average squared deviation of each number from the mean of a data set.n It equals the sum of the squares of the difference between each data point and the mean divided by the number of data points minus 1.\n",
    "\n",
    "$s^2$ = $\\frac{\\sum (x - \\hat{x})^2}{N - 1}$\n",
    "\n",
    "Example : If we have 3 annual returns of 23%, -8% and 15%. The mean return is 10%.\n",
    "\n",
    "* $(23 - 10)^2$ = 169\n",
    "* $(-8 - 10)^2$ = 324\n",
    "* $(15 - 10)^2$ = 25\n",
    "* = 169 + 324 + 25 = 518 / (3-1) = 259 = 2.59\n",
    "\n",
    "---\n",
    "\n",
    "Standard deviation is a measure of the amount of variation within a set of values. A low standard deviation indicates that the values tend to be close to the mean. A high standard deviation means values are more spread out. To get the Standard Deviation find the square root of the variance.\n",
    "\n",
    "$\\sqrt{s^2}$ = $\\sqrt{2.59}$ = 1.609"
   ]
  },
  {
   "cell_type": "code",
   "execution_count": 11,
   "metadata": {},
   "outputs": [],
   "source": [
    "# Receives the dataframe with the Close data along with the stock ticker\n",
    "# Returns the mean and standard deviation associated with the ticker\n",
    "def get_stock_mean_sd(stock_df, ticker):\n",
    "    return stock_df[ticker].mean(), stock_df[ticker].std()"
   ]
  },
  {
   "cell_type": "code",
   "execution_count": 12,
   "metadata": {},
   "outputs": [],
   "source": [
    "# Receives the dataframe with the stock ticker as the column name and\n",
    "# the Close values as the column data and returns the mean and \n",
    "# standard deviation\n",
    "def get_mult_stock_mean_sd(stock_df):\n",
    "    for stock in stock_df:\n",
    "        mean, sd = get_stock_mean_sd(stock_df, stock)\n",
    "        cov = sd / mean\n",
    "        print(\"Stock: {:4} Mean: {:7.2f} Standard deviation: {:2.2f}\".format(stock, mean, sd))\n",
    "        print(\"Coefficient of Variation: {}\\n\".format(cov))"
   ]
  },
  {
   "cell_type": "markdown",
   "metadata": {},
   "source": [
    "## Test Functions"
   ]
  },
  {
   "cell_type": "code",
   "execution_count": 13,
   "metadata": {},
   "outputs": [
    {
     "ename": "AttributeError",
     "evalue": "'NoneType' object has no attribute 'group'",
     "output_type": "error",
     "traceback": [
      "\u001b[0;31m---------------------------------------------------------------------------\u001b[0m",
      "\u001b[0;31mAttributeError\u001b[0m                            Traceback (most recent call last)",
      "Cell \u001b[0;32mIn[13], line 2\u001b[0m\n\u001b[1;32m      1\u001b[0m \u001b[38;5;66;03m# Call to read the data from Yahoo into a CSV and then retrieve a Dataframe\u001b[39;00m\n\u001b[0;32m----> 2\u001b[0m AMZN \u001b[38;5;241m=\u001b[39m \u001b[43msave_to_csv_from_yahoo\u001b[49m\u001b[43m(\u001b[49m\u001b[38;5;124;43m'\u001b[39;49m\u001b[38;5;124;43mAMZN\u001b[39;49m\u001b[38;5;124;43m'\u001b[39;49m\u001b[43m,\u001b[49m\u001b[43m \u001b[49m\u001b[38;5;241;43m2020\u001b[39;49m\u001b[43m,\u001b[49m\u001b[43m \u001b[49m\u001b[38;5;241;43m1\u001b[39;49m\u001b[43m,\u001b[49m\u001b[43m \u001b[49m\u001b[38;5;241;43m1\u001b[39;49m\u001b[43m,\u001b[49m\u001b[43m \u001b[49m\u001b[38;5;241;43m2021\u001b[39;49m\u001b[43m,\u001b[49m\u001b[43m \u001b[49m\u001b[38;5;241;43m1\u001b[39;49m\u001b[43m,\u001b[49m\u001b[43m \u001b[49m\u001b[38;5;241;43m1\u001b[39;49m\u001b[43m)\u001b[49m\n\u001b[1;32m      4\u001b[0m \u001b[38;5;66;03m# Retrieve data from the CSV file\u001b[39;00m\n\u001b[1;32m      5\u001b[0m AMZN \u001b[38;5;241m=\u001b[39m get_df_from_csv(\u001b[38;5;124m'\u001b[39m\u001b[38;5;124mAMZN\u001b[39m\u001b[38;5;124m'\u001b[39m)\n",
      "Cell \u001b[0;32mIn[2], line 10\u001b[0m, in \u001b[0;36msave_to_csv_from_yahoo\u001b[0;34m(ticker, syear, smonth, sday, eyear, emonth, eday)\u001b[0m\n\u001b[1;32m      7\u001b[0m end \u001b[38;5;241m=\u001b[39m dt\u001b[38;5;241m.\u001b[39mdatetime(eyear, emonth, eday)\n\u001b[1;32m      9\u001b[0m \u001b[38;5;66;03m# Reads data into a dataframe\u001b[39;00m\n\u001b[0;32m---> 10\u001b[0m df \u001b[38;5;241m=\u001b[39m \u001b[43mweb\u001b[49m\u001b[38;5;241;43m.\u001b[39;49m\u001b[43mDataReader\u001b[49m\u001b[43m(\u001b[49m\u001b[43mticker\u001b[49m\u001b[43m,\u001b[49m\u001b[43m \u001b[49m\u001b[38;5;124;43m'\u001b[39;49m\u001b[38;5;124;43myahoo\u001b[39;49m\u001b[38;5;124;43m'\u001b[39;49m\u001b[43m,\u001b[49m\u001b[43m \u001b[49m\u001b[43mstart\u001b[49m\u001b[43m,\u001b[49m\u001b[43m \u001b[49m\u001b[43mend\u001b[49m\u001b[43m)\u001b[49m\n\u001b[1;32m     12\u001b[0m \u001b[38;5;66;03m# Save data to a CSV file\u001b[39;00m\n\u001b[1;32m     13\u001b[0m df\u001b[38;5;241m.\u001b[39mto_csv(\u001b[38;5;124m\"\u001b[39m\u001b[38;5;124m/Users/derekbanas/Documents/Tutorials/Python4Finance/\u001b[39m\u001b[38;5;124m\"\u001b[39m \u001b[38;5;241m+\u001b[39m ticker \u001b[38;5;241m+\u001b[39m \u001b[38;5;124m'\u001b[39m\u001b[38;5;124m.csv\u001b[39m\u001b[38;5;124m'\u001b[39m)\n",
      "File \u001b[0;32m~/.local/lib/python3.10/site-packages/pandas/util/_decorators.py:213\u001b[0m, in \u001b[0;36mdeprecate_kwarg.<locals>._deprecate_kwarg.<locals>.wrapper\u001b[0;34m(*args, **kwargs)\u001b[0m\n\u001b[1;32m    211\u001b[0m         \u001b[38;5;28;01mraise\u001b[39;00m \u001b[38;5;167;01mTypeError\u001b[39;00m(msg)\n\u001b[1;32m    212\u001b[0m     kwargs[new_arg_name] \u001b[38;5;241m=\u001b[39m new_arg_value\n\u001b[0;32m--> 213\u001b[0m \u001b[38;5;28;01mreturn\u001b[39;00m \u001b[43mfunc\u001b[49m\u001b[43m(\u001b[49m\u001b[38;5;241;43m*\u001b[39;49m\u001b[43margs\u001b[49m\u001b[43m,\u001b[49m\u001b[43m \u001b[49m\u001b[38;5;241;43m*\u001b[39;49m\u001b[38;5;241;43m*\u001b[39;49m\u001b[43mkwargs\u001b[49m\u001b[43m)\u001b[49m\n",
      "File \u001b[0;32m~/.local/lib/python3.10/site-packages/pandas_datareader/data.py:379\u001b[0m, in \u001b[0;36mDataReader\u001b[0;34m(name, data_source, start, end, retry_count, pause, session, api_key)\u001b[0m\n\u001b[1;32m    367\u001b[0m     \u001b[38;5;28;01mraise\u001b[39;00m \u001b[38;5;167;01mNotImplementedError\u001b[39;00m(msg)\n\u001b[1;32m    369\u001b[0m \u001b[38;5;28;01mif\u001b[39;00m data_source \u001b[38;5;241m==\u001b[39m \u001b[38;5;124m\"\u001b[39m\u001b[38;5;124myahoo\u001b[39m\u001b[38;5;124m\"\u001b[39m:\n\u001b[1;32m    370\u001b[0m     \u001b[38;5;28;01mreturn\u001b[39;00m \u001b[43mYahooDailyReader\u001b[49m\u001b[43m(\u001b[49m\n\u001b[1;32m    371\u001b[0m \u001b[43m        \u001b[49m\u001b[43msymbols\u001b[49m\u001b[38;5;241;43m=\u001b[39;49m\u001b[43mname\u001b[49m\u001b[43m,\u001b[49m\n\u001b[1;32m    372\u001b[0m \u001b[43m        \u001b[49m\u001b[43mstart\u001b[49m\u001b[38;5;241;43m=\u001b[39;49m\u001b[43mstart\u001b[49m\u001b[43m,\u001b[49m\n\u001b[1;32m    373\u001b[0m \u001b[43m        \u001b[49m\u001b[43mend\u001b[49m\u001b[38;5;241;43m=\u001b[39;49m\u001b[43mend\u001b[49m\u001b[43m,\u001b[49m\n\u001b[1;32m    374\u001b[0m \u001b[43m        \u001b[49m\u001b[43madjust_price\u001b[49m\u001b[38;5;241;43m=\u001b[39;49m\u001b[38;5;28;43;01mFalse\u001b[39;49;00m\u001b[43m,\u001b[49m\n\u001b[1;32m    375\u001b[0m \u001b[43m        \u001b[49m\u001b[43mchunksize\u001b[49m\u001b[38;5;241;43m=\u001b[39;49m\u001b[38;5;241;43m25\u001b[39;49m\u001b[43m,\u001b[49m\n\u001b[1;32m    376\u001b[0m \u001b[43m        \u001b[49m\u001b[43mretry_count\u001b[49m\u001b[38;5;241;43m=\u001b[39;49m\u001b[43mretry_count\u001b[49m\u001b[43m,\u001b[49m\n\u001b[1;32m    377\u001b[0m \u001b[43m        \u001b[49m\u001b[43mpause\u001b[49m\u001b[38;5;241;43m=\u001b[39;49m\u001b[43mpause\u001b[49m\u001b[43m,\u001b[49m\n\u001b[1;32m    378\u001b[0m \u001b[43m        \u001b[49m\u001b[43msession\u001b[49m\u001b[38;5;241;43m=\u001b[39;49m\u001b[43msession\u001b[49m\u001b[43m,\u001b[49m\n\u001b[0;32m--> 379\u001b[0m \u001b[43m    \u001b[49m\u001b[43m)\u001b[49m\u001b[38;5;241;43m.\u001b[39;49m\u001b[43mread\u001b[49m\u001b[43m(\u001b[49m\u001b[43m)\u001b[49m\n\u001b[1;32m    381\u001b[0m \u001b[38;5;28;01melif\u001b[39;00m data_source \u001b[38;5;241m==\u001b[39m \u001b[38;5;124m\"\u001b[39m\u001b[38;5;124miex\u001b[39m\u001b[38;5;124m\"\u001b[39m:\n\u001b[1;32m    382\u001b[0m     \u001b[38;5;28;01mreturn\u001b[39;00m IEXDailyReader(\n\u001b[1;32m    383\u001b[0m         symbols\u001b[38;5;241m=\u001b[39mname,\n\u001b[1;32m    384\u001b[0m         start\u001b[38;5;241m=\u001b[39mstart,\n\u001b[0;32m   (...)\u001b[0m\n\u001b[1;32m    390\u001b[0m         session\u001b[38;5;241m=\u001b[39msession,\n\u001b[1;32m    391\u001b[0m     )\u001b[38;5;241m.\u001b[39mread()\n",
      "File \u001b[0;32m~/.local/lib/python3.10/site-packages/pandas_datareader/base.py:253\u001b[0m, in \u001b[0;36m_DailyBaseReader.read\u001b[0;34m(self)\u001b[0m\n\u001b[1;32m    251\u001b[0m \u001b[38;5;66;03m# If a single symbol, (e.g., 'GOOG')\u001b[39;00m\n\u001b[1;32m    252\u001b[0m \u001b[38;5;28;01mif\u001b[39;00m \u001b[38;5;28misinstance\u001b[39m(\u001b[38;5;28mself\u001b[39m\u001b[38;5;241m.\u001b[39msymbols, (string_types, \u001b[38;5;28mint\u001b[39m)):\n\u001b[0;32m--> 253\u001b[0m     df \u001b[38;5;241m=\u001b[39m \u001b[38;5;28;43mself\u001b[39;49m\u001b[38;5;241;43m.\u001b[39;49m\u001b[43m_read_one_data\u001b[49m\u001b[43m(\u001b[49m\u001b[38;5;28;43mself\u001b[39;49m\u001b[38;5;241;43m.\u001b[39;49m\u001b[43murl\u001b[49m\u001b[43m,\u001b[49m\u001b[43m \u001b[49m\u001b[43mparams\u001b[49m\u001b[38;5;241;43m=\u001b[39;49m\u001b[38;5;28;43mself\u001b[39;49m\u001b[38;5;241;43m.\u001b[39;49m\u001b[43m_get_params\u001b[49m\u001b[43m(\u001b[49m\u001b[38;5;28;43mself\u001b[39;49m\u001b[38;5;241;43m.\u001b[39;49m\u001b[43msymbols\u001b[49m\u001b[43m)\u001b[49m\u001b[43m)\u001b[49m\n\u001b[1;32m    254\u001b[0m \u001b[38;5;66;03m# Or multiple symbols, (e.g., ['GOOG', 'AAPL', 'MSFT'])\u001b[39;00m\n\u001b[1;32m    255\u001b[0m \u001b[38;5;28;01melif\u001b[39;00m \u001b[38;5;28misinstance\u001b[39m(\u001b[38;5;28mself\u001b[39m\u001b[38;5;241m.\u001b[39msymbols, DataFrame):\n",
      "File \u001b[0;32m~/.local/lib/python3.10/site-packages/pandas_datareader/yahoo/daily.py:152\u001b[0m, in \u001b[0;36mYahooDailyReader._read_one_data\u001b[0;34m(self, url, params)\u001b[0m\n\u001b[1;32m    150\u001b[0m ptrn \u001b[38;5;241m=\u001b[39m \u001b[38;5;124mr\u001b[39m\u001b[38;5;124m\"\u001b[39m\u001b[38;5;124mroot\u001b[39m\u001b[38;5;124m\\\u001b[39m\u001b[38;5;124m.App\u001b[39m\u001b[38;5;124m\\\u001b[39m\u001b[38;5;124m.main = (.*?);\u001b[39m\u001b[38;5;124m\\\u001b[39m\u001b[38;5;124mn}\u001b[39m\u001b[38;5;124m\\\u001b[39m\u001b[38;5;124m(this\u001b[39m\u001b[38;5;124m\\\u001b[39m\u001b[38;5;124m)\u001b[39m\u001b[38;5;124m\\\u001b[39m\u001b[38;5;124m);\u001b[39m\u001b[38;5;124m\"\u001b[39m\n\u001b[1;32m    151\u001b[0m \u001b[38;5;28;01mtry\u001b[39;00m:\n\u001b[0;32m--> 152\u001b[0m     j \u001b[38;5;241m=\u001b[39m json\u001b[38;5;241m.\u001b[39mloads(\u001b[43mre\u001b[49m\u001b[38;5;241;43m.\u001b[39;49m\u001b[43msearch\u001b[49m\u001b[43m(\u001b[49m\u001b[43mptrn\u001b[49m\u001b[43m,\u001b[49m\u001b[43m \u001b[49m\u001b[43mresp\u001b[49m\u001b[38;5;241;43m.\u001b[39;49m\u001b[43mtext\u001b[49m\u001b[43m,\u001b[49m\u001b[43m \u001b[49m\u001b[43mre\u001b[49m\u001b[38;5;241;43m.\u001b[39;49m\u001b[43mDOTALL\u001b[49m\u001b[43m)\u001b[49m\u001b[38;5;241;43m.\u001b[39;49m\u001b[43mgroup\u001b[49m(\u001b[38;5;241m1\u001b[39m))\n\u001b[1;32m    153\u001b[0m     data \u001b[38;5;241m=\u001b[39m j[\u001b[38;5;124m\"\u001b[39m\u001b[38;5;124mcontext\u001b[39m\u001b[38;5;124m\"\u001b[39m][\u001b[38;5;124m\"\u001b[39m\u001b[38;5;124mdispatcher\u001b[39m\u001b[38;5;124m\"\u001b[39m][\u001b[38;5;124m\"\u001b[39m\u001b[38;5;124mstores\u001b[39m\u001b[38;5;124m\"\u001b[39m][\u001b[38;5;124m\"\u001b[39m\u001b[38;5;124mHistoricalPriceStore\u001b[39m\u001b[38;5;124m\"\u001b[39m]\n\u001b[1;32m    154\u001b[0m \u001b[38;5;28;01mexcept\u001b[39;00m \u001b[38;5;167;01mKeyError\u001b[39;00m:\n",
      "\u001b[0;31mAttributeError\u001b[0m: 'NoneType' object has no attribute 'group'"
     ]
    }
   ],
   "source": [
    "# Call to read the data from Yahoo into a CSV and then retrieve a Dataframe\n",
    "AMZN = save_to_csv_from_yahoo('AMZN', 2020, 1, 1, 2021, 1, 1)\n",
    "\n",
    "# Retrieve data from the CSV file\n",
    "AMZN = get_df_from_csv('AMZN')\n",
    "\n",
    "# Add daily return to function\n",
    "add_daily_return_to_df(AMZN, 'AMZN')\n",
    "\n",
    "# Get total return between dates\n",
    "tot_ret = get_return_defined_time(AMZN, 2020, 1, 1, 2021, 1, 1)\n",
    "print(\"Total Return :\", tot_ret)\n",
    "\n",
    "# Use Matplotlib finance to print multiple charts\n",
    "# mplfinance_plot('AMZN', 'ohlc', 2020, 6, 1, 2021, 1, 1)\n",
    "\n",
    "price_plot('AMZN', 2020, 6, 1, 2021, 1, 1)\n",
    "\n",
    "# Download multiple stocks\n",
    "tickers = [\"FB\", \"AAPL\", \"NFLX\", \"GOOG\"]\n",
    "# download_multiple_stocks(2020, 1, 1, 2021, 1, 1, *tickers)\n",
    "\n",
    "# Merge dataframes from multiple stocks using the same column name\n",
    "tickers = [\"FB\", \"AMZN\", \"AAPL\", \"NFLX\", \"GOOG\"]\n",
    "mult_df = merge_df_by_column_name('Close',  2020, 1, 1, 2021, 1, 1, *tickers)\n",
    "mult_df.tail()\n",
    "\n",
    "# Pass Investment Amount and Plot Returns using Multiple Stocks\n",
    "plot_return_mult_stocks(100, mult_df)\n",
    "\n",
    "# Pass multiple stocks with their adjusted close values to receive their\n",
    "# different means and standard deviations\n",
    "get_mult_stock_mean_sd(mult_df)\n",
    "mult_df\n",
    "\n",
    "# It is hard to compare stocks by standard deviation when their stock prices\n",
    "# are so different. The coefficient of variation is the ratio between the \n",
    "# standard deviation and the mean and it provides a comparable standard deviation\n",
    "# We get it by dividing the standard deviation by the mean cov = std / mean\n",
    "# We see here that GOOG has the least amount of variability"
   ]
  },
  {
   "cell_type": "code",
   "execution_count": 14,
   "metadata": {},
   "outputs": [],
   "source": [
    "# TODO: complete code above line"
   ]
  },
  {
   "cell_type": "markdown",
   "metadata": {},
   "source": [
    "---------"
   ]
  },
  {
   "cell_type": "markdown",
   "metadata": {},
   "source": [
    "### 11 Stock Market Sectors\n",
    "Technology : Manufacturing of electronics, software, or related to information technology\n",
    "\n",
    "Health Care : Biotech, hospitals, medical devices, drugs\n",
    "\n",
    "Financials : Banks, investment funds, and insurance\n",
    "\n",
    "Real Estate : Residential, industrial, and retail real estate\n",
    "\n",
    "Energy : Production and supply of energy\n",
    "\n",
    "Materials : Mining, refining, chemical, and forestry\n",
    "\n",
    "Consumer Discretionary : Retailers, apparel, media, durables and services\n",
    "\n",
    "Industrials : Construction, machinery, fabrication, manufacturing, defense, and aerospace\n",
    "\n",
    "Utilities : Direct providers of electric, gas, and water\n",
    "\n",
    "Consumer Staples : Food, beverage as well as products consumers deem essential\n",
    "\n",
    "Telecommunication : Cable, internet providers, wireless, and satellite"
   ]
  },
  {
   "cell_type": "markdown",
   "metadata": {},
   "source": [
    "#### Get Sector Stocks"
   ]
  },
  {
   "cell_type": "code",
   "execution_count": 15,
   "metadata": {},
   "outputs": [
    {
     "data": {
      "text/html": [
       "<div>\n",
       "<style scoped>\n",
       "    .dataframe tbody tr th:only-of-type {\n",
       "        vertical-align: middle;\n",
       "    }\n",
       "\n",
       "    .dataframe tbody tr th {\n",
       "        vertical-align: top;\n",
       "    }\n",
       "\n",
       "    .dataframe thead th {\n",
       "        text-align: right;\n",
       "    }\n",
       "</style>\n",
       "<table border=\"1\" class=\"dataframe\">\n",
       "  <thead>\n",
       "    <tr style=\"text-align: right;\">\n",
       "      <th></th>\n",
       "      <th>Symbol</th>\n",
       "      <th>Name</th>\n",
       "      <th>Sector</th>\n",
       "    </tr>\n",
       "  </thead>\n",
       "  <tbody>\n",
       "    <tr>\n",
       "      <th>0</th>\n",
       "      <td>MMM</td>\n",
       "      <td>3M</td>\n",
       "      <td>Industrials</td>\n",
       "    </tr>\n",
       "    <tr>\n",
       "      <th>1</th>\n",
       "      <td>AOS</td>\n",
       "      <td>A. O. Smith</td>\n",
       "      <td>Industrials</td>\n",
       "    </tr>\n",
       "    <tr>\n",
       "      <th>2</th>\n",
       "      <td>ABT</td>\n",
       "      <td>Abbott Laboratories</td>\n",
       "      <td>Health Care</td>\n",
       "    </tr>\n",
       "    <tr>\n",
       "      <th>3</th>\n",
       "      <td>ABBV</td>\n",
       "      <td>AbbVie</td>\n",
       "      <td>Health Care</td>\n",
       "    </tr>\n",
       "    <tr>\n",
       "      <th>4</th>\n",
       "      <td>ABMD</td>\n",
       "      <td>Abiomed</td>\n",
       "      <td>Health Care</td>\n",
       "    </tr>\n",
       "    <tr>\n",
       "      <th>...</th>\n",
       "      <td>...</td>\n",
       "      <td>...</td>\n",
       "      <td>...</td>\n",
       "    </tr>\n",
       "    <tr>\n",
       "      <th>500</th>\n",
       "      <td>YUM</td>\n",
       "      <td>Yum! Brands</td>\n",
       "      <td>Consumer Discretionary</td>\n",
       "    </tr>\n",
       "    <tr>\n",
       "      <th>501</th>\n",
       "      <td>ZBRA</td>\n",
       "      <td>Zebra Technologies</td>\n",
       "      <td>Information Technology</td>\n",
       "    </tr>\n",
       "    <tr>\n",
       "      <th>502</th>\n",
       "      <td>ZBH</td>\n",
       "      <td>Zimmer Biomet</td>\n",
       "      <td>Health Care</td>\n",
       "    </tr>\n",
       "    <tr>\n",
       "      <th>503</th>\n",
       "      <td>ZION</td>\n",
       "      <td>Zions Bancorp</td>\n",
       "      <td>Financials</td>\n",
       "    </tr>\n",
       "    <tr>\n",
       "      <th>504</th>\n",
       "      <td>ZTS</td>\n",
       "      <td>Zoetis</td>\n",
       "      <td>Health Care</td>\n",
       "    </tr>\n",
       "  </tbody>\n",
       "</table>\n",
       "<p>505 rows × 3 columns</p>\n",
       "</div>"
      ],
      "text/plain": [
       "    Symbol                 Name                  Sector\n",
       "0      MMM                   3M             Industrials\n",
       "1      AOS          A. O. Smith             Industrials\n",
       "2      ABT  Abbott Laboratories             Health Care\n",
       "3     ABBV               AbbVie             Health Care\n",
       "4     ABMD              Abiomed             Health Care\n",
       "..     ...                  ...                     ...\n",
       "500    YUM          Yum! Brands  Consumer Discretionary\n",
       "501   ZBRA   Zebra Technologies  Information Technology\n",
       "502    ZBH        Zimmer Biomet             Health Care\n",
       "503   ZION        Zions Bancorp              Financials\n",
       "504    ZTS               Zoetis             Health Care\n",
       "\n",
       "[505 rows x 3 columns]"
      ]
     },
     "execution_count": 15,
     "metadata": {},
     "output_type": "execute_result"
    }
   ],
   "source": [
    "sec_df = pd.read_csv('/home/bayes/Desktop/Python_Here/Python4Finance/stock_sectors.csv')\n",
    "sec_df"
   ]
  },
  {
   "cell_type": "code",
   "execution_count": 17,
   "metadata": {},
   "outputs": [
    {
     "data": {
      "text/plain": [
       "array(['Industrials', 'Health Care', 'Information Technology',\n",
       "       'Communication Services', 'Consumer Staples',\n",
       "       'Consumer Discretionary', 'Utilities', 'Financials', 'Materials',\n",
       "       'Real Estate', 'Energy'], dtype=object)"
      ]
     },
     "execution_count": 17,
     "metadata": {},
     "output_type": "execute_result"
    }
   ],
   "source": [
    "sec_df.Sector.unique()"
   ]
  },
  {
   "cell_type": "code",
   "execution_count": 18,
   "metadata": {},
   "outputs": [],
   "source": [
    "#  Get Industrials DF\n",
    "indus_df = sec_df.loc[sec_df['Sector'] == \"Industrials\"]\n",
    "health_df = sec_df.loc[sec_df['Sector'] == \"Health Care\"]\n",
    "it_df = sec_df.loc[sec_df['Sector'] == \"Information Technology\"]\n",
    "comm_df = sec_df.loc[sec_df['Sector'] == \"Communication Services\"]\n",
    "staple_df = sec_df.loc[sec_df['Sector'] == \"Consumer Staples\"]\n",
    "discretion_df = sec_df.loc[sec_df['Sector'] == \"Consumer Discretionary\"]\n",
    "utility_df = sec_df.loc[sec_df['Sector'] == \"Utilities\"]\n",
    "financial_df = sec_df.loc[sec_df['Sector'] == \"Financials\"]\n",
    "material_df = sec_df.loc[sec_df['Sector'] == \"Materials\"]\n",
    "restate_df = sec_df.loc[sec_df['Sector'] == \"Real Estate\"]\n",
    "energy_df = sec_df.loc[sec_df['Sector'] == \"Energy\"]"
   ]
  },
  {
   "cell_type": "markdown",
   "metadata": {},
   "source": [
    "#### Returns a DF with ROIs for all Stocks"
   ]
  },
  {
   "cell_type": "code",
   "execution_count": 19,
   "metadata": {},
   "outputs": [],
   "source": [
    "def get_rois_for_stocks(stock_df):\n",
    "    '''Returns a DF with ROIs for all Stocks'''\n",
    "    # Will hold all tickers & stock rois\n",
    "    tickers = []\n",
    "    rois = []\n",
    "\n",
    "    for index, row in staple_df.iterrows():\n",
    "        df = get_df_from_csv(row['Symbol'])\n",
    "    \n",
    "        # If we can't find the ticker delete it from the dataframe\n",
    "        if df is None:\n",
    "            pass\n",
    "            # print(row['Symbol'], \" is not available\")\n",
    "        else:\n",
    "            tickers.append(row['Symbol'])\n",
    "            sdate, edate = get_valid_dates(df, '2018-01-01', '2020-12-31')\n",
    "            df = df.set_index(['Date'])\n",
    "            roi = roi_between_dates(df, sdate, edate)\n",
    "            rois.append(roi)\n",
    "    return pd.DataFrame({'Ticker':tickers, 'ROI':rois})"
   ]
  },
  {
   "cell_type": "code",
   "execution_count": 20,
   "metadata": {},
   "outputs": [
    {
     "name": "stdout",
     "output_type": "stream",
     "text": [
      "File Doesn't Exist\n",
      "File Doesn't Exist\n",
      "File Doesn't Exist\n",
      "File Doesn't Exist\n",
      "File Doesn't Exist\n",
      "File Doesn't Exist\n",
      "File Doesn't Exist\n",
      "File Doesn't Exist\n",
      "File Doesn't Exist\n",
      "File Doesn't Exist\n",
      "File Doesn't Exist\n",
      "File Doesn't Exist\n",
      "File Doesn't Exist\n",
      "File Doesn't Exist\n",
      "File Doesn't Exist\n",
      "File Doesn't Exist\n",
      "File Doesn't Exist\n",
      "File Doesn't Exist\n",
      "File Doesn't Exist\n",
      "File Doesn't Exist\n",
      "File Doesn't Exist\n",
      "File Doesn't Exist\n",
      "File Doesn't Exist\n",
      "File Doesn't Exist\n",
      "File Doesn't Exist\n",
      "File Doesn't Exist\n",
      "File Doesn't Exist\n",
      "File Doesn't Exist\n",
      "File Doesn't Exist\n",
      "File Doesn't Exist\n",
      "File Doesn't Exist\n",
      "File Doesn't Exist\n"
     ]
    }
   ],
   "source": [
    "industrial = get_rois_for_stocks(indus_df)"
   ]
  },
  {
   "cell_type": "code",
   "execution_count": null,
   "metadata": {},
   "outputs": [],
   "source": []
  },
  {
   "cell_type": "code",
   "execution_count": null,
   "metadata": {},
   "outputs": [],
   "source": []
  }
 ],
 "metadata": {
  "kernelspec": {
   "display_name": "Python 3",
   "language": "python",
   "name": "python3"
  },
  "language_info": {
   "codemirror_mode": {
    "name": "ipython",
    "version": 3
   },
   "file_extension": ".py",
   "mimetype": "text/x-python",
   "name": "python",
   "nbconvert_exporter": "python",
   "pygments_lexer": "ipython3",
   "version": "3.10.12"
  }
 },
 "nbformat": 4,
 "nbformat_minor": 4
}
